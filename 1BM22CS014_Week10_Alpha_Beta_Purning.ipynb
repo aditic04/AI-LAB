{
  "nbformat": 4,
  "nbformat_minor": 0,
  "metadata": {
    "colab": {
      "provenance": [],
      "authorship_tag": "ABX9TyN6rpQLh9sDzYyGOV+SlN7d"
    },
    "kernelspec": {
      "name": "python3",
      "display_name": "Python 3"
    },
    "language_info": {
      "name": "python"
    }
  },
  "cells": [
    {
      "cell_type": "code",
      "execution_count": 2,
      "metadata": {
        "colab": {
          "base_uri": "https://localhost:8080/"
        },
        "id": "6e3-cghtq9_E",
        "outputId": "954312d1-9871-41d1-c052-fb9943bad8c7"
      },
      "outputs": [
        {
          "output_type": "stream",
          "name": "stdout",
          "text": [
            "Game Tree Before Alpha-Beta Pruning:\n",
            "Node Value: None\n",
            "  Node Value: None\n",
            "    Node Value: None\n",
            "      Node Value: 8\n",
            "      Node Value: 7\n",
            "    Node Value: None\n",
            "      Node Value: 12\n",
            "      Node Value: 15\n",
            "  Node Value: None\n",
            "    Node Value: None\n",
            "      Node Value: 3\n",
            "      Node Value: 2\n",
            "    Node Value: None\n",
            "      Node Value: 25\n",
            "      Node Value: 1\n",
            "Pruned at MAX node with alpha=12, beta=8\n",
            "Pruned at MIN node with alpha=8, beta=3\n",
            "\n",
            "Game Tree After Alpha-Beta Pruning:\n",
            "Node Value: 8\n",
            "  Node Value: 8\n",
            "    Node Value: 8\n",
            "      Node Value: 8\n",
            "      Node Value: 7\n",
            "    Node Value: 12\n",
            "      Node Value: 12\n",
            "      Node Value: 15\n",
            "  Node Value: 3\n",
            "    Node Value: 3\n",
            "      Node Value: 3\n",
            "      Node Value: 2\n",
            "    Node Value: None\n",
            "      Node Value: 25\n",
            "      Node Value: 1\n",
            "\n",
            "Final Value at MAX node: 8\n"
          ]
        }
      ],
      "source": [
        "class GameNode:\n",
        "    def __init__(self, value=None, children=None):\n",
        "        self.value = value\n",
        "        self.children = children if children else []\n",
        "\n",
        "\n",
        "def alpha_beta(node, depth, alpha, beta, is_maximizing):\n",
        "    if not node.children or depth == 0:\n",
        "        return node.value\n",
        "\n",
        "    if is_maximizing:\n",
        "        best_value = float('-inf')\n",
        "        for child in node.children:\n",
        "            value = alpha_beta(child, depth - 1, alpha, beta, False)\n",
        "            best_value = max(best_value, value)\n",
        "            alpha = max(alpha, value)\n",
        "            if beta <= alpha:\n",
        "                print(f\"Pruned at MAX node with alpha={alpha}, beta={beta}\")\n",
        "                break\n",
        "        node.value = best_value\n",
        "        return best_value\n",
        "    else:\n",
        "        best_value = float('inf')\n",
        "        for child in node.children:\n",
        "            value = alpha_beta(child, depth - 1, alpha, beta, True)\n",
        "            best_value = min(best_value, value)\n",
        "            beta = min(beta, value)\n",
        "            if beta <= alpha:\n",
        "                print(f\"Pruned at MIN node with alpha={alpha}, beta={beta}\")\n",
        "                break\n",
        "        node.value = best_value\n",
        "        return best_value\n",
        "\n",
        "\n",
        "def display_tree(node, level=0):\n",
        "    print(\"  \" * level + f\"Node Value: {node.value}\")\n",
        "    for child in node.children:\n",
        "        display_tree(child, level + 1)\n",
        "\n",
        "\n",
        "if __name__ == \"__main__\":\n",
        "    root = GameNode(None, [\n",
        "        GameNode(None, [\n",
        "            GameNode(None, [GameNode(8), GameNode(7)]),\n",
        "            GameNode(None, [GameNode(12), GameNode(15)])\n",
        "        ]),\n",
        "        GameNode(None, [\n",
        "            GameNode(None, [GameNode(3), GameNode(2)]),\n",
        "            GameNode(None, [GameNode(25), GameNode(1)])\n",
        "        ])\n",
        "    ])\n",
        "\n",
        "    print(\"Game Tree Before Alpha-Beta Pruning:\")\n",
        "    display_tree(root)\n",
        "\n",
        "    final_value = alpha_beta(root, depth=3, alpha=float('-inf'), beta=float('inf'), is_maximizing=True)\n",
        "\n",
        "    print(\"\\nGame Tree After Alpha-Beta Pruning:\")\n",
        "    display_tree(root)\n",
        "\n",
        "    print(\"\\nFinal Value at MAX node:\", final_value)\n"
      ]
    }
  ]
}