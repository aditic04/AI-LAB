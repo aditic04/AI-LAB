{
  "nbformat": 4,
  "nbformat_minor": 0,
  "metadata": {
    "colab": {
      "provenance": [],
      "authorship_tag": "ABX9TyP2x3k9DZv/W2xW73IklnAa"
    },
    "kernelspec": {
      "name": "python3",
      "display_name": "Python 3"
    },
    "language_info": {
      "name": "python"
    }
  },
  "cells": [
    {
      "cell_type": "code",
      "source": [
        "from copy import deepcopy\n",
        "goal_state = [[0, 1, 2],\n",
        "              [3, 4, 5],\n",
        "              [6, 7, 8]]\n",
        "moves = {\n",
        "    'up': (-1, 0),\n",
        "    'down': (1, 0),\n",
        "    'left': (0, -1),\n",
        "    'right': (0, 1)\n",
        "}\n",
        "\n",
        "def find_blank(board):\n",
        "    for i in range(3):\n",
        "        for j in range(3):\n",
        "            if board[i][j] == 0:\n",
        "                return i, j\n",
        "    return None\n",
        "\n",
        "def is_goal(state):\n",
        "    return state == goal_state\n",
        "\n",
        "def is_valid_move(x, y):\n",
        "    return 0 <= x < 3 and 0 <= y < 3\n",
        "\n",
        "def apply_move(board, move):\n",
        "    x, y = find_blank(board)\n",
        "    dx, dy = moves[move]\n",
        "    new_x, new_y = x + dx, y + dy\n",
        "    if is_valid_move(new_x, new_y):\n",
        "        new_board = deepcopy(board)\n",
        "\n",
        "        new_board[x][y], new_board[new_x][new_y] = new_board[new_x][new_y], new_board[x][y]\n",
        "        return new_board\n",
        "    return None\n",
        "\n",
        "def dfs(start):\n",
        "    stack = [(start, [])]\n",
        "    visited = set()\n",
        "\n",
        "    while stack:\n",
        "        current_state, path = stack.pop()\n",
        "\n",
        "        if is_goal(current_state):\n",
        "            return path + [current_state]\n",
        "\n",
        "        visited.add(tuple(tuple(row) for row in current_state))\n",
        "\n",
        "        for move in moves:\n",
        "            new_state = apply_move(current_state, move)\n",
        "            if new_state and tuple(tuple(row) for row in new_state) not in visited:\n",
        "                stack.append((new_state, path + [current_state]))\n",
        "\n",
        "    return None\n",
        "\n",
        "def print_board(board):\n",
        "    for row in board:\n",
        "        print(row)\n",
        "    print()\n",
        "\n",
        "def print_solution(solution):\n",
        "    if solution:\n",
        "        for board in solution:\n",
        "            print_board(board)\n",
        "    else:\n",
        "        print(\"No solution found\")\n",
        "\n",
        "initial_state = [[1, 2, 0],\n",
        "                 [3, 4, 5],\n",
        "                 [6, 7, 8]]\n",
        "\n",
        "solution = dfs(initial_state)\n",
        "\n",
        "print_solution(solution)"
      ],
      "metadata": {
        "colab": {
          "base_uri": "https://localhost:8080/"
        },
        "id": "CQoTlblBBe1R",
        "outputId": "6fb4af6d-6775-4149-b9cd-174f0f4f89f4"
      },
      "execution_count": 6,
      "outputs": [
        {
          "output_type": "stream",
          "name": "stdout",
          "text": [
            "[1, 2, 0]\n",
            "[3, 4, 5]\n",
            "[6, 7, 8]\n",
            "\n",
            "[1, 0, 2]\n",
            "[3, 4, 5]\n",
            "[6, 7, 8]\n",
            "\n",
            "[0, 1, 2]\n",
            "[3, 4, 5]\n",
            "[6, 7, 8]\n",
            "\n"
          ]
        }
      ]
    }
  ]
}