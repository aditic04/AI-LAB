{
  "nbformat": 4,
  "nbformat_minor": 0,
  "metadata": {
    "colab": {
      "provenance": [],
      "authorship_tag": "ABX9TyON2xxoLMysXTCtHBjgw/ht"
    },
    "kernelspec": {
      "name": "python3",
      "display_name": "Python 3"
    },
    "language_info": {
      "name": "python"
    }
  },
  "cells": [
    {
      "cell_type": "code",
      "execution_count": 10,
      "metadata": {
        "colab": {
          "base_uri": "https://localhost:8080/"
        },
        "id": "gpnjne1wutw9",
        "outputId": "9854f2aa-40b2-4b76-8848-1aa71a951c04"
      },
      "outputs": [
        {
          "output_type": "stream",
          "name": "stdout",
          "text": [
            "Derived: Weapon(T1)\n",
            "Derived: Hostile(A)\n",
            "Derived: Sells(Robert, T1, A)\n",
            "Derived: Criminal(Robert)\n",
            "Outcome: Robert is a criminal.\n"
          ]
        }
      ],
      "source": [
        "class KnowledgeBase:\n",
        "    def __init__(self):\n",
        "        self.facts = set()\n",
        "        self.rules = []\n",
        "\n",
        "    def add_fact(self, fact):\n",
        "        self.facts.add(fact)\n",
        "\n",
        "    def add_rule(self, rule):\n",
        "        self.rules.append(rule)\n",
        "\n",
        "    def infer(self):\n",
        "        derived_new = True\n",
        "        while derived_new:\n",
        "            derived_new = False\n",
        "            for rule in self.rules:\n",
        "                if rule.evaluate(self.facts):\n",
        "                    derived_new = True\n",
        "\n",
        "\n",
        "class Rule:\n",
        "    def __init__(self, conditions, conclusion):\n",
        "        self.conditions = conditions\n",
        "        self.conclusion = conclusion\n",
        "\n",
        "    def evaluate(self, facts):\n",
        "        if all(condition in facts for condition in self.conditions):\n",
        "            if self.conclusion not in facts:\n",
        "                facts.add(self.conclusion)\n",
        "                print(f\"Derived: {self.conclusion}\")\n",
        "                return True\n",
        "        return False\n",
        "\n",
        "\n",
        "kb = KnowledgeBase()\n",
        "kb.add_fact(\"American(Robert)\")\n",
        "kb.add_fact(\"Missile(T1)\")\n",
        "kb.add_fact(\"Owns(A, T1)\")\n",
        "kb.add_fact(\"Enemy(A, America)\")\n",
        "\n",
        "kb.add_rule(Rule([\"Missile(T1)\"], \"Weapon(T1)\"))\n",
        "kb.add_rule(Rule([\"Enemy(A, America)\"], \"Hostile(A)\"))\n",
        "kb.add_rule(Rule([\"Missile(T1)\", \"Owns(A, T1)\"], \"Sells(Robert, T1, A)\"))\n",
        "kb.add_rule(Rule([\"American(Robert)\", \"Weapon(T1)\", \"Sells(Robert, T1, A)\", \"Hostile(A)\"], \"Criminal(Robert)\"))\n",
        "\n",
        "kb.infer()\n",
        "\n",
        "if \"Criminal(Robert)\" in kb.facts:\n",
        "    print(\"Outcome: Robert is a criminal.\")\n",
        "else:\n",
        "    print(\"Outcome: Unable to prove Robert is a criminal.\")\n"
      ]
    }
  ]
}