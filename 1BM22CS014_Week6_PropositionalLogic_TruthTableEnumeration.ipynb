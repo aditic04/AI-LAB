{
  "nbformat": 4,
  "nbformat_minor": 0,
  "metadata": {
    "colab": {
      "provenance": [],
      "authorship_tag": "ABX9TyM7El6sHCwULfAAyqNGn9pU"
    },
    "kernelspec": {
      "name": "python3",
      "display_name": "Python 3"
    },
    "language_info": {
      "name": "python"
    }
  },
  "cells": [
    {
      "cell_type": "markdown",
      "source": [
        "### **WEEK 6 : PROPOSITIONAL LOGIC**"
      ],
      "metadata": {
        "id": "OShj99QSPD_0"
      }
    },
    {
      "cell_type": "code",
      "execution_count": 1,
      "metadata": {
        "colab": {
          "base_uri": "https://localhost:8080/"
        },
        "id": "eWu4iMV5OMQa",
        "outputId": "0636b62c-9958-4597-abda-f447db761014"
      },
      "outputs": [
        {
          "output_type": "stream",
          "name": "stdout",
          "text": [
            "Q    P    R    Q -> P    P -> ¬Q   Q ∪ R     R    R -> P    Q -> R    \n",
            "1    1    1    1         0         1         1    1         1         \n",
            "1    1    0    1         0         1         0    1         0         \n",
            "1    0    1    0         1         1         1    0         1         \n",
            "1    0    0    0         1         1         0    1         0         \n",
            "0    1    1    1         1         1         1    1         1         \n",
            "\n",
            "KB is true for Q = False, P = True, R = True:\n",
            "- Q -> P: True\n",
            "- P -> ¬Q: True\n",
            "- Q ∪ R: True\n",
            "Entailments:\n",
            "- R: True\n",
            "- R -> P: True\n",
            "- Q -> R: True\n",
            "--------------------------------------------------\n",
            "0    1    0    1         1         0         0    1         1         \n",
            "0    0    1    1         1         1         1    0         1         \n",
            "\n",
            "KB is true for Q = False, P = False, R = True:\n",
            "- Q -> P: True\n",
            "- P -> ¬Q: True\n",
            "- Q ∪ R: True\n",
            "Entailments:\n",
            "- R: True\n",
            "- R -> P: False\n",
            "- Q -> R: True\n",
            "--------------------------------------------------\n",
            "0    0    0    1         1         0         0    1         1         \n"
          ]
        }
      ],
      "source": [
        "import itertools\n",
        "\n",
        "def evaluate_kb(Q, P, R):\n",
        "    q_imp_p = (not Q or P)\n",
        "    p_imp_not_q = (not P or not Q)\n",
        "    q_union_r = (Q or R)\n",
        "\n",
        "    r = R\n",
        "    r_imp_p = (not R or P)\n",
        "    q_imp_r = (not Q or R)\n",
        "\n",
        "    return q_imp_p, p_imp_not_q, q_union_r, r, r_imp_p, q_imp_r\n",
        "\n",
        "def truth_table():\n",
        "    values = [True, False]\n",
        "    print(f\"{'Q':<5}{'P':<5}{'R':<5}{'Q -> P':<10}{'P -> ¬Q':<10}{'Q ∪ R':<10}{'R':<5}{'R -> P':<10}{'Q -> R':<10}\")\n",
        "\n",
        "    for Q, P, R in itertools.product(values, repeat=3):\n",
        "        q_imp_p, p_imp_not_q, q_union_r, r, r_imp_p, q_imp_r = evaluate_kb(Q, P, R)\n",
        "\n",
        "        print(f\"{Q:<5}{P:<5}{R:<5}{q_imp_p:<10}{p_imp_not_q:<10}{q_union_r:<10}{r:<5}{r_imp_p:<10}{q_imp_r:<10}\")\n",
        "\n",
        "        if q_imp_p and p_imp_not_q and q_union_r:\n",
        "            print(f\"\\nKB is true for Q = {Q}, P = {P}, R = {R}:\")\n",
        "            print(f\"- Q -> P: {q_imp_p}\")\n",
        "            print(f\"- P -> ¬Q: {p_imp_not_q}\")\n",
        "            print(f\"- Q ∪ R: {q_union_r}\")\n",
        "            print(f\"Entailments:\")\n",
        "            print(f\"- R: {r}\")\n",
        "            print(f\"- R -> P: {r_imp_p}\")\n",
        "            print(f\"- Q -> R: {q_imp_r}\")\n",
        "            print(\"-\" * 50)\n",
        "\n",
        "def main():\n",
        "    truth_table()\n",
        "\n",
        "main()\n"
      ]
    }
  ]
}